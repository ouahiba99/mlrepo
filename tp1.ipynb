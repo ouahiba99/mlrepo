{
  "nbformat": 4,
  "nbformat_minor": 0,
  "metadata": {
    "colab": {
      "provenance": [],
      "toc_visible": true,
      "authorship_tag": "ABX9TyPFB0W6+XAoY4br1kEFXvrv",
      "include_colab_link": true
    },
    "kernelspec": {
      "name": "python3",
      "display_name": "Python 3"
    },
    "language_info": {
      "name": "python"
    }
  },
  "cells": [
    {
      "cell_type": "markdown",
      "metadata": {
        "id": "view-in-github",
        "colab_type": "text"
      },
      "source": [
        "<a href=\"https://colab.research.google.com/github/ouahiba99/mlrepo/blob/main/tp1.ipynb\" target=\"_parent\"><img src=\"https://colab.research.google.com/assets/colab-badge.svg\" alt=\"Open In Colab\"/></a>"
      ]
    },
    {
      "cell_type": "markdown",
      "source": [
        "# importing the required libraries and functions "
      ],
      "metadata": {
        "id": "GdLbezi-hTDz"
      }
    },
    {
      "cell_type": "code",
      "execution_count": 68,
      "metadata": {
        "id": "A2pFz570ceIN"
      },
      "outputs": [],
      "source": [
        "import numpy as np ;\n",
        "import matplotlib.pyplot as plt ;\n",
        "from sklearn.linear_model import SGDRegressor;\n",
        "\n",
        "from sklearn.datasets import load_boston\n",
        "from sklearn.datasets import make_regression\n",
        "from sklearn.metrics import mean_squared_error\n",
        "from sklearn.model_selection import train_test_split\n",
        "from sklearn.model_selection import cross_val_score\n",
        "from sklearn.preprocessing import scale\n",
        "import matplotlib.pyplot as plt\n"
      ]
    },
    {
      "cell_type": "markdown",
      "source": [
        "#Generating the two vectors 𝒙 and 𝒚 "
      ],
      "metadata": {
        "id": "BtQIHRz4jkez"
      }
    },
    {
      "cell_type": "code",
      "source": [
        "x = 2 * np.random.rand(100,1);\n",
        "y = 4 + 3*x + np.random.randn(100,1)*0.5;"
      ],
      "metadata": {
        "id": "anvf5iUMjj_8"
      },
      "execution_count": 69,
      "outputs": []
    },
    {
      "cell_type": "markdown",
      "source": [
        "#Visualizing the data"
      ],
      "metadata": {
        "id": "eM-GcXOOkgkh"
      }
    },
    {
      "cell_type": "code",
      "source": [
        "plt.scatter(x, y);"
      ],
      "metadata": {
        "colab": {
          "base_uri": "https://localhost:8080/",
          "height": 265
        },
        "id": "0IBb3FJrkf8k",
        "outputId": "7b219eb9-4ff1-4363-8eec-b831e7ad8af1"
      },
      "execution_count": 70,
      "outputs": [
        {
          "output_type": "display_data",
          "data": {
            "text/plain": [
              "<Figure size 432x288 with 1 Axes>"
            ],
            "image/png": "[encoded data removed]"
          },
          "metadata": {
            "needs_background": "light"
          }
        }
      ]
    },
    {
      "cell_type": "markdown",
      "source": [
        "#Defining a variable model from generator SGDRegressor"
      ],
      "metadata": {
        "id": "Kh5Mnz9akfo7"
      }
    },
    {
      "cell_type": "code",
      "source": [
        "model = SGDRegressor( alpha=0.0001, max_iter=100);"
      ],
      "metadata": {
        "id": "LLmuMg1GlJUN"
      },
      "execution_count": 71,
      "outputs": []
    },
    {
      "cell_type": "markdown",
      "source": [
        "#Calculate and display the accuracy of the mode"
      ],
      "metadata": {
        "id": "bqUzljFzy1qR"
      }
    },
    {
      "cell_type": "code",
      "source": [
        "\n",
        "xtrain, xtest, ytrain, ytest = train_test_split(x, y, test_size=.10)\n",
        "print(model)\n",
        "\n",
        "model.fit(xtrain, ytrain)\n",
        "\n",
        "score = model.score(xtrain, ytrain)\n",
        "print(\"R-squared:\", score)"
      ],
      "metadata": {
        "colab": {
          "base_uri": "https://localhost:8080/"
        },
        "id": "odFsCTKazCa9",
        "outputId": "b2762daa-b912-409b-a57e-25199b7ff1c8"
      },
      "execution_count": 72,
      "outputs": [
        {
          "output_type": "stream",
          "name": "stdout",
          "text": [
            "SGDRegressor(max_iter=100)\n",
            "R-squared: 0.9006835592490501\n"
          ]
        },
        {
          "output_type": "stream",
          "name": "stderr",
          "text": [
            "/usr/local/lib/python3.7/dist-packages/sklearn/utils/validation.py:993: DataConversionWarning: A column-vector y was passed when a 1d array was expected. Please change the shape of y to (n_samples, ), for example using ravel().\n",
            "  y = column_or_1d(y, warn=True)\n"
          ]
        }
      ]
    }
  ]
}